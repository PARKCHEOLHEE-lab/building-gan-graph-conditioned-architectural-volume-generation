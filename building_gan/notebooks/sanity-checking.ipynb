{
 "cells": [
  {
   "cell_type": "code",
   "execution_count": null,
   "metadata": {},
   "outputs": [],
   "source": [
    "import os\n",
    "import sys\n",
    "import torch\n",
    "import matplotlib.pyplot as plt\n",
    "\n",
    "if os.path.abspath(\"../../\") not in sys.path:\n",
    "    sys.path.append(os.path.abspath(\"../../\"))\n",
    "\n",
    "from building_gan.src.config import Configuration\n",
    "from building_gan.src.data import GraphDataLoaders\n",
    "from building_gan.src.models import VoxelGNNGenerator, VoxelGNNDiscriminator\n",
    "from building_gan.src.trainer import Trainer\n",
    "\n",
    "configuration = Configuration(sanity_checking=True)\n",
    "configuration.set_seed()\n",
    "\n",
    "dataloaders = GraphDataLoaders(configuration=configuration)\n",
    "generator = VoxelGNNGenerator(configuration)\n",
    "discriminator = VoxelGNNDiscriminator(configuration)\n",
    "\n",
    "optimizer_generator = torch.optim.Adam(generator.parameters(), lr=configuration.LEARNING_RATE_GENERATOR)\n",
    "optimizer_discriminator = torch.optim.Adam(discriminator.parameters(), lr=configuration.LEARNING_RATE_DISCRIMINATOR)\n",
    "\n",
    "trainer = Trainer(\n",
    "    generator=generator,\n",
    "    discriminator=discriminator,\n",
    "    dataloaders=dataloaders,\n",
    "    optimizer_generator=optimizer_generator,\n",
    "    optimizer_discriminator=optimizer_discriminator,\n",
    "    configuration=configuration,\n",
    "    log_dir=os.path.join(configuration.LOG_DIR, \"sanity-checking\"),\n",
    ")\n",
    "\n",
    "trainer.train()"
   ]
  },
  {
   "cell_type": "code",
   "execution_count": null,
   "metadata": {},
   "outputs": [
    {
     "name": "stdout",
     "output_type": "stream",
     "text": [
      "TensorFlow installation not found - running with reduced feature set.\n",
      "\n",
      "NOTE: Using experimental fast data loading logic. To disable, pass\n",
      "    \"--load_fast=false\" and report issues on GitHub. More details:\n",
      "    https://github.com/tensorflow/tensorboard/issues/4784\n",
      "\n",
      "Serving TensorBoard on localhost; to expose to the network, use a proxy or pass --bind_all\n",
      "TensorBoard 2.16.2 at http://localhost:6006/ (Press CTRL+C to quit)\n"
     ]
    }
   ],
   "source": [
    "!tensorboard --logdir=../runs/sanity-checking"
   ]
  },
  {
   "cell_type": "markdown",
   "metadata": {},
   "source": [
    "![Sanity checking visualization at epoch 1](../assets/sanity-checking-0001.png)\n",
    "![Sanity checking visualization at epoch 1000](../assets/sanity-checking-1000.png)\n",
    "![Sanity checking visualization at epoch 2000](../assets/sanity-checking-2000.png)\n",
    "![Sanity checking visualization at epoch 3000](../assets/sanity-checking-3000.png)\n",
    "![Sanity checking visualization at epoch 4000](../assets/sanity-checking-4000.png)\n",
    "![Sanity checking visualization at epoch 5000](../assets/sanity-checking-5000.png)\n",
    "![Sanity checking visualization at epoch 1](../assets/sanity-checking-scalars.png)"
   ]
  }
 ],
 "metadata": {
  "kernelspec": {
   "display_name": "Python 3",
   "language": "python",
   "name": "python3"
  },
  "language_info": {
   "codemirror_mode": {
    "name": "ipython",
    "version": 3
   },
   "file_extension": ".py",
   "mimetype": "text/x-python",
   "name": "python",
   "nbconvert_exporter": "python",
   "pygments_lexer": "ipython3",
   "version": "3.10.12"
  }
 },
 "nbformat": 4,
 "nbformat_minor": 2
}
