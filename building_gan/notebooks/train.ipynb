{
 "cells": [
  {
   "cell_type": "code",
   "execution_count": null,
   "metadata": {},
   "outputs": [],
   "source": [
    "import os\n",
    "import sys\n",
    "import torch\n",
    "\n",
    "os.environ[\"CUDA_VISIBLE_DEVICES\"] = \"0,1\"\n",
    "\n",
    "if os.path.abspath(\"../../\") not in sys.path:\n",
    "    sys.path.append(os.path.abspath(\"../../\"))\n",
    "\n",
    "from building_gan.src.config import Configuration\n",
    "from building_gan.src.data import GraphDataLoaders\n",
    "from building_gan.src.models import VoxelGNNGenerator, VoxelGNNDiscriminator\n",
    "from building_gan.src.trainer import Trainer"
   ]
  },
  {
   "cell_type": "code",
   "execution_count": null,
   "metadata": {},
   "outputs": [],
   "source": [
    "\n",
    "configuration = Configuration()\n",
    "configuration.set_seed()\n",
    "\n",
    "dataloaders = GraphDataLoaders(configuration=configuration)\n",
    "generator = VoxelGNNGenerator(configuration)\n",
    "discriminator = VoxelGNNDiscriminator(configuration)\n",
    "\n",
    "optimizer_generator = torch.optim.AdamW(generator.parameters(), lr=configuration.LEARNING_RATE_GENERATOR)\n",
    "optimizer_discriminator = torch.optim.AdamW(\n",
    "    discriminator.parameters(), lr=configuration.LEARNING_RATE_DISCRIMINATOR\n",
    ")\n",
    "\n",
    "trainer = Trainer(\n",
    "    generator=generator,\n",
    "    discriminator=discriminator,\n",
    "    dataloaders=dataloaders,\n",
    "    optimizer_generator=optimizer_generator,\n",
    "    optimizer_discriminator=optimizer_discriminator,\n",
    "    configuration=configuration,\n",
    ")\n",
    "\n",
    "trainer.train()"
   ]
  }
 ],
 "metadata": {
  "kernelspec": {
   "display_name": "Python 3",
   "language": "python",
   "name": "python3"
  },
  "language_info": {
   "codemirror_mode": {
    "name": "ipython",
    "version": 3
   },
   "file_extension": ".py",
   "mimetype": "text/x-python",
   "name": "python",
   "nbconvert_exporter": "python",
   "pygments_lexer": "ipython3",
   "version": "3.10.12"
  }
 },
 "nbformat": 4,
 "nbformat_minor": 2
}
